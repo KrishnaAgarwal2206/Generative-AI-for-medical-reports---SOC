{
 "cells": [
  {
   "cell_type": "code",
   "execution_count": 5,
   "id": "c0a49a9f",
   "metadata": {},
   "outputs": [
    {
     "name": "stdout",
     "output_type": "stream",
     "text": [
      "hello world\n"
     ]
    }
   ],
   "source": [
    "print(\"hello world\")"
   ]
  },
  {
   "cell_type": "code",
   "execution_count": 6,
   "id": "a9cb202f",
   "metadata": {},
   "outputs": [
    {
     "data": {
      "text/plain": [
       "'c:\\\\Users\\\\KRISHNA\\\\OneDrive\\\\Desktop\\\\SOC\\\\Generative-AI-for-medical-reports---SOC'"
      ]
     },
     "execution_count": 6,
     "metadata": {},
     "output_type": "execute_result"
    }
   ],
   "source": [
    "%pwd"
   ]
  },
  {
   "cell_type": "code",
   "execution_count": 7,
   "id": "180c899f",
   "metadata": {},
   "outputs": [],
   "source": [
    "from langchain.document_loaders import DirectoryLoader, PyPDFLoader\n",
    "from langchain.text_splitter import RecursiveCharacterTextSplitter"
   ]
  },
  {
   "cell_type": "code",
   "execution_count": 8,
   "id": "7278ab73",
   "metadata": {},
   "outputs": [],
   "source": [
    "def load_data(data):\n",
    "    \"\"\"Load data from a directory.\"\"\"\n",
    "    loader = DirectoryLoader(data, glob=\"*.pdf\", loader_cls=PyPDFLoader)\n",
    "    documents = loader.load()\n",
    "    return documents"
   ]
  },
  {
   "cell_type": "code",
   "execution_count": 9,
   "id": "4b9268f1",
   "metadata": {},
   "outputs": [
    {
     "ename": "KeyboardInterrupt",
     "evalue": "",
     "output_type": "error",
     "traceback": [
      "\u001b[31m---------------------------------------------------------------------------\u001b[39m",
      "\u001b[31mKeyboardInterrupt\u001b[39m                         Traceback (most recent call last)",
      "\u001b[36mCell\u001b[39m\u001b[36m \u001b[39m\u001b[32mIn[9]\u001b[39m\u001b[32m, line 1\u001b[39m\n\u001b[32m----> \u001b[39m\u001b[32m1\u001b[39m extracted_data = \u001b[43mload_data\u001b[49m\u001b[43m(\u001b[49m\u001b[33;43m\"\u001b[39;49m\u001b[33;43mData/\u001b[39;49m\u001b[33;43m\"\u001b[39;49m\u001b[43m)\u001b[49m\n",
      "\u001b[36mCell\u001b[39m\u001b[36m \u001b[39m\u001b[32mIn[8]\u001b[39m\u001b[32m, line 4\u001b[39m, in \u001b[36mload_data\u001b[39m\u001b[34m(data)\u001b[39m\n\u001b[32m      2\u001b[39m \u001b[38;5;250m\u001b[39m\u001b[33;03m\"\"\"Load data from a directory.\"\"\"\u001b[39;00m\n\u001b[32m      3\u001b[39m loader = DirectoryLoader(data, glob=\u001b[33m\"\u001b[39m\u001b[33m*.pdf\u001b[39m\u001b[33m\"\u001b[39m, loader_cls=PyPDFLoader)\n\u001b[32m----> \u001b[39m\u001b[32m4\u001b[39m documents = \u001b[43mloader\u001b[49m\u001b[43m.\u001b[49m\u001b[43mload\u001b[49m\u001b[43m(\u001b[49m\u001b[43m)\u001b[49m\n\u001b[32m      5\u001b[39m \u001b[38;5;28;01mreturn\u001b[39;00m documents\n",
      "\u001b[36mFile \u001b[39m\u001b[32mc:\\Users\\KRISHNA\\anaconda3\\envs\\venv\\Lib\\site-packages\\langchain_community\\document_loaders\\directory.py:117\u001b[39m, in \u001b[36mDirectoryLoader.load\u001b[39m\u001b[34m(self)\u001b[39m\n\u001b[32m    115\u001b[39m \u001b[38;5;28;01mdef\u001b[39;00m\u001b[38;5;250m \u001b[39m\u001b[34mload\u001b[39m(\u001b[38;5;28mself\u001b[39m) -> List[Document]:\n\u001b[32m    116\u001b[39m \u001b[38;5;250m    \u001b[39m\u001b[33;03m\"\"\"Load documents.\"\"\"\u001b[39;00m\n\u001b[32m--> \u001b[39m\u001b[32m117\u001b[39m     \u001b[38;5;28;01mreturn\u001b[39;00m \u001b[38;5;28;43mlist\u001b[39;49m\u001b[43m(\u001b[49m\u001b[38;5;28;43mself\u001b[39;49m\u001b[43m.\u001b[49m\u001b[43mlazy_load\u001b[49m\u001b[43m(\u001b[49m\u001b[43m)\u001b[49m\u001b[43m)\u001b[49m\n",
      "\u001b[36mFile \u001b[39m\u001b[32mc:\\Users\\KRISHNA\\anaconda3\\envs\\venv\\Lib\\site-packages\\langchain_community\\document_loaders\\directory.py:195\u001b[39m, in \u001b[36mDirectoryLoader.lazy_load\u001b[39m\u001b[34m(self)\u001b[39m\n\u001b[32m    193\u001b[39m \u001b[38;5;28;01melse\u001b[39;00m:\n\u001b[32m    194\u001b[39m     \u001b[38;5;28;01mfor\u001b[39;00m i \u001b[38;5;129;01min\u001b[39;00m items:\n\u001b[32m--> \u001b[39m\u001b[32m195\u001b[39m         \u001b[38;5;28;01myield from\u001b[39;00m \u001b[38;5;28mself\u001b[39m._lazy_load_file(i, p, pbar)\n\u001b[32m    197\u001b[39m \u001b[38;5;28;01mif\u001b[39;00m pbar:\n\u001b[32m    198\u001b[39m     pbar.close()\n",
      "\u001b[36mFile \u001b[39m\u001b[32mc:\\Users\\KRISHNA\\anaconda3\\envs\\venv\\Lib\\site-packages\\langchain_community\\document_loaders\\directory.py:223\u001b[39m, in \u001b[36mDirectoryLoader._lazy_load_file\u001b[39m\u001b[34m(self, item, path, pbar)\u001b[39m\n\u001b[32m    221\u001b[39m loader = \u001b[38;5;28mself\u001b[39m.loader_cls(\u001b[38;5;28mstr\u001b[39m(item), **\u001b[38;5;28mself\u001b[39m.loader_kwargs)\n\u001b[32m    222\u001b[39m \u001b[38;5;28;01mtry\u001b[39;00m:\n\u001b[32m--> \u001b[39m\u001b[32m223\u001b[39m \u001b[43m    \u001b[49m\u001b[38;5;28;43;01mfor\u001b[39;49;00m\u001b[43m \u001b[49m\u001b[43msubdoc\u001b[49m\u001b[43m \u001b[49m\u001b[38;5;129;43;01min\u001b[39;49;00m\u001b[43m \u001b[49m\u001b[43mloader\u001b[49m\u001b[43m.\u001b[49m\u001b[43mlazy_load\u001b[49m\u001b[43m(\u001b[49m\u001b[43m)\u001b[49m\u001b[43m:\u001b[49m\n\u001b[32m    224\u001b[39m \u001b[43m        \u001b[49m\u001b[38;5;28;43;01myield\u001b[39;49;00m\u001b[43m \u001b[49m\u001b[43msubdoc\u001b[49m\n\u001b[32m    225\u001b[39m \u001b[38;5;28;01mexcept\u001b[39;00m \u001b[38;5;167;01mNotImplementedError\u001b[39;00m:\n",
      "\u001b[36mFile \u001b[39m\u001b[32mc:\\Users\\KRISHNA\\anaconda3\\envs\\venv\\Lib\\site-packages\\langchain_community\\document_loaders\\pdf.py:305\u001b[39m, in \u001b[36mPyPDFLoader.lazy_load\u001b[39m\u001b[34m(self)\u001b[39m\n\u001b[32m    303\u001b[39m \u001b[38;5;28;01melse\u001b[39;00m:\n\u001b[32m    304\u001b[39m     blob = Blob.from_path(\u001b[38;5;28mself\u001b[39m.file_path)\n\u001b[32m--> \u001b[39m\u001b[32m305\u001b[39m \u001b[38;5;28;01myield from\u001b[39;00m \u001b[38;5;28mself\u001b[39m.parser.lazy_parse(blob)\n",
      "\u001b[36mFile \u001b[39m\u001b[32mc:\\Users\\KRISHNA\\anaconda3\\envs\\venv\\Lib\\site-packages\\langchain_community\\document_loaders\\parsers\\pdf.py:396\u001b[39m, in \u001b[36mPyPDFParser.lazy_parse\u001b[39m\u001b[34m(self, blob)\u001b[39m\n\u001b[32m    394\u001b[39m single_texts = []\n\u001b[32m    395\u001b[39m \u001b[38;5;28;01mfor\u001b[39;00m page_number, page \u001b[38;5;129;01min\u001b[39;00m \u001b[38;5;28menumerate\u001b[39m(pdf_reader.pages):\n\u001b[32m--> \u001b[39m\u001b[32m396\u001b[39m     text_from_page = \u001b[43m_extract_text_from_page\u001b[49m\u001b[43m(\u001b[49m\u001b[43mpage\u001b[49m\u001b[43m=\u001b[49m\u001b[43mpage\u001b[49m\u001b[43m)\u001b[49m\n\u001b[32m    397\u001b[39m     images_from_page = \u001b[38;5;28mself\u001b[39m.extract_images_from_page(page)\n\u001b[32m    398\u001b[39m     all_text = _merge_text_and_extras(\n\u001b[32m    399\u001b[39m         [images_from_page], text_from_page\n\u001b[32m    400\u001b[39m     ).strip()\n",
      "\u001b[36mFile \u001b[39m\u001b[32mc:\\Users\\KRISHNA\\anaconda3\\envs\\venv\\Lib\\site-packages\\langchain_community\\document_loaders\\parsers\\pdf.py:378\u001b[39m, in \u001b[36mPyPDFParser.lazy_parse.<locals>._extract_text_from_page\u001b[39m\u001b[34m(page)\u001b[39m\n\u001b[32m    376\u001b[39m     \u001b[38;5;28;01mreturn\u001b[39;00m page.extract_text()\n\u001b[32m    377\u001b[39m \u001b[38;5;28;01melse\u001b[39;00m:\n\u001b[32m--> \u001b[39m\u001b[32m378\u001b[39m     \u001b[38;5;28;01mreturn\u001b[39;00m \u001b[43mpage\u001b[49m\u001b[43m.\u001b[49m\u001b[43mextract_text\u001b[49m\u001b[43m(\u001b[49m\n\u001b[32m    379\u001b[39m \u001b[43m        \u001b[49m\u001b[43mextraction_mode\u001b[49m\u001b[43m=\u001b[49m\u001b[38;5;28;43mself\u001b[39;49m\u001b[43m.\u001b[49m\u001b[43mextraction_mode\u001b[49m\u001b[43m,\u001b[49m\n\u001b[32m    380\u001b[39m \u001b[43m        \u001b[49m\u001b[43m*\u001b[49m\u001b[43m*\u001b[49m\u001b[38;5;28;43mself\u001b[39;49m\u001b[43m.\u001b[49m\u001b[43mextraction_kwargs\u001b[49m\u001b[43m,\u001b[49m\n\u001b[32m    381\u001b[39m \u001b[43m    \u001b[49m\u001b[43m)\u001b[49m\n",
      "\u001b[36mFile \u001b[39m\u001b[32mc:\\Users\\KRISHNA\\anaconda3\\envs\\venv\\Lib\\site-packages\\pypdf\\_page.py:2045\u001b[39m, in \u001b[36mPageObject.extract_text\u001b[39m\u001b[34m(self, orientations, space_width, visitor_operand_before, visitor_operand_after, visitor_text, extraction_mode, *args, **kwargs)\u001b[39m\n\u001b[32m   2042\u001b[39m \u001b[38;5;28;01mif\u001b[39;00m \u001b[38;5;28misinstance\u001b[39m(orientations, \u001b[38;5;28mint\u001b[39m):\n\u001b[32m   2043\u001b[39m     orientations = (orientations,)\n\u001b[32m-> \u001b[39m\u001b[32m2045\u001b[39m \u001b[38;5;28;01mreturn\u001b[39;00m \u001b[38;5;28;43mself\u001b[39;49m\u001b[43m.\u001b[49m\u001b[43m_extract_text\u001b[49m\u001b[43m(\u001b[49m\n\u001b[32m   2046\u001b[39m \u001b[43m    \u001b[49m\u001b[38;5;28;43mself\u001b[39;49m\u001b[43m,\u001b[49m\n\u001b[32m   2047\u001b[39m \u001b[43m    \u001b[49m\u001b[38;5;28;43mself\u001b[39;49m\u001b[43m.\u001b[49m\u001b[43mpdf\u001b[49m\u001b[43m,\u001b[49m\n\u001b[32m   2048\u001b[39m \u001b[43m    \u001b[49m\u001b[43morientations\u001b[49m\u001b[43m,\u001b[49m\n\u001b[32m   2049\u001b[39m \u001b[43m    \u001b[49m\u001b[43mspace_width\u001b[49m\u001b[43m,\u001b[49m\n\u001b[32m   2050\u001b[39m \u001b[43m    \u001b[49m\u001b[43mPG\u001b[49m\u001b[43m.\u001b[49m\u001b[43mCONTENTS\u001b[49m\u001b[43m,\u001b[49m\n\u001b[32m   2051\u001b[39m \u001b[43m    \u001b[49m\u001b[43mvisitor_operand_before\u001b[49m\u001b[43m,\u001b[49m\n\u001b[32m   2052\u001b[39m \u001b[43m    \u001b[49m\u001b[43mvisitor_operand_after\u001b[49m\u001b[43m,\u001b[49m\n\u001b[32m   2053\u001b[39m \u001b[43m    \u001b[49m\u001b[43mvisitor_text\u001b[49m\u001b[43m,\u001b[49m\n\u001b[32m   2054\u001b[39m \u001b[43m\u001b[49m\u001b[43m)\u001b[49m\n",
      "\u001b[36mFile \u001b[39m\u001b[32mc:\\Users\\KRISHNA\\anaconda3\\envs\\venv\\Lib\\site-packages\\pypdf\\_page.py:1728\u001b[39m, in \u001b[36mPageObject._extract_text\u001b[39m\u001b[34m(self, obj, pdf, orientations, space_width, content_key, visitor_operand_before, visitor_operand_after, visitor_text)\u001b[39m\n\u001b[32m   1721\u001b[39m \u001b[38;5;66;03m# We check all strings are TextStringObjects. ByteStringObjects\u001b[39;00m\n\u001b[32m   1722\u001b[39m \u001b[38;5;66;03m# are strings where the byte->string encoding was unknown, so adding\u001b[39;00m\n\u001b[32m   1723\u001b[39m \u001b[38;5;66;03m# them to the text here would be gibberish.\u001b[39;00m\n\u001b[32m   1724\u001b[39m \n\u001b[32m   1725\u001b[39m \u001b[38;5;66;03m# Initialize the extractor with the necessary parameters\u001b[39;00m\n\u001b[32m   1726\u001b[39m extractor.initialize_extraction(orientations, visitor_text, cmaps)\n\u001b[32m-> \u001b[39m\u001b[32m1728\u001b[39m \u001b[38;5;28;01mfor\u001b[39;00m operands, operator \u001b[38;5;129;01min\u001b[39;00m \u001b[43mcontent\u001b[49m\u001b[43m.\u001b[49m\u001b[43moperations\u001b[49m:\n\u001b[32m   1729\u001b[39m     \u001b[38;5;28;01mif\u001b[39;00m visitor_operand_before \u001b[38;5;129;01mis\u001b[39;00m \u001b[38;5;129;01mnot\u001b[39;00m \u001b[38;5;28;01mNone\u001b[39;00m:\n\u001b[32m   1730\u001b[39m         visitor_operand_before(operator, operands, extractor.cm_matrix, extractor.tm_matrix)\n",
      "\u001b[36mFile \u001b[39m\u001b[32mc:\\Users\\KRISHNA\\anaconda3\\envs\\venv\\Lib\\site-packages\\pypdf\\generic\\_data_structures.py:1422\u001b[39m, in \u001b[36mContentStream.operations\u001b[39m\u001b[34m(self)\u001b[39m\n\u001b[32m   1419\u001b[39m \u001b[38;5;129m@property\u001b[39m\n\u001b[32m   1420\u001b[39m \u001b[38;5;28;01mdef\u001b[39;00m\u001b[38;5;250m \u001b[39m\u001b[34moperations\u001b[39m(\u001b[38;5;28mself\u001b[39m) -> List[Tuple[Any, \u001b[38;5;28mbytes\u001b[39m]]:\n\u001b[32m   1421\u001b[39m     \u001b[38;5;28;01mif\u001b[39;00m \u001b[38;5;129;01mnot\u001b[39;00m \u001b[38;5;28mself\u001b[39m._operations \u001b[38;5;129;01mand\u001b[39;00m \u001b[38;5;28mself\u001b[39m._data:\n\u001b[32m-> \u001b[39m\u001b[32m1422\u001b[39m         \u001b[38;5;28;43mself\u001b[39;49m\u001b[43m.\u001b[49m\u001b[43m_parse_content_stream\u001b[49m\u001b[43m(\u001b[49m\u001b[43mBytesIO\u001b[49m\u001b[43m(\u001b[49m\u001b[38;5;28;43mself\u001b[39;49m\u001b[43m.\u001b[49m\u001b[43m_data\u001b[49m\u001b[43m)\u001b[49m\u001b[43m)\u001b[49m\n\u001b[32m   1423\u001b[39m         \u001b[38;5;28mself\u001b[39m._data = \u001b[33mb\u001b[39m\u001b[33m\"\u001b[39m\u001b[33m\"\u001b[39m\n\u001b[32m   1424\u001b[39m     \u001b[38;5;28;01mreturn\u001b[39;00m \u001b[38;5;28mself\u001b[39m._operations\n",
      "\u001b[36mFile \u001b[39m\u001b[32mc:\\Users\\KRISHNA\\anaconda3\\envs\\venv\\Lib\\site-packages\\pypdf\\generic\\_data_structures.py:1315\u001b[39m, in \u001b[36mContentStream._parse_content_stream\u001b[39m\u001b[34m(self, stream)\u001b[39m\n\u001b[32m   1313\u001b[39m         peek = stream.read(\u001b[32m1\u001b[39m)\n\u001b[32m   1314\u001b[39m \u001b[38;5;28;01melse\u001b[39;00m:\n\u001b[32m-> \u001b[39m\u001b[32m1315\u001b[39m     operands.append(\u001b[43mread_object\u001b[49m\u001b[43m(\u001b[49m\u001b[43mstream\u001b[49m\u001b[43m,\u001b[49m\u001b[43m \u001b[49m\u001b[38;5;28;43;01mNone\u001b[39;49;00m\u001b[43m,\u001b[49m\u001b[43m \u001b[49m\u001b[38;5;28;43mself\u001b[39;49m\u001b[43m.\u001b[49m\u001b[43mforced_encoding\u001b[49m\u001b[43m)\u001b[49m)\n",
      "\u001b[36mFile \u001b[39m\u001b[32mc:\\Users\\KRISHNA\\anaconda3\\envs\\venv\\Lib\\site-packages\\pypdf\\generic\\_data_structures.py:1486\u001b[39m, in \u001b[36mread_object\u001b[39m\u001b[34m(stream, pdf, forced_encoding)\u001b[39m\n\u001b[32m   1484\u001b[39m         \u001b[38;5;28;01massert\u001b[39;00m pdf \u001b[38;5;129;01mis\u001b[39;00m \u001b[38;5;129;01mnot\u001b[39;00m \u001b[38;5;28;01mNone\u001b[39;00m, \u001b[33m\"\u001b[39m\u001b[33mmypy\u001b[39m\u001b[33m\"\u001b[39m\n\u001b[32m   1485\u001b[39m         \u001b[38;5;28;01mreturn\u001b[39;00m IndirectObject.read_from_stream(stream, pdf)\n\u001b[32m-> \u001b[39m\u001b[32m1486\u001b[39m     \u001b[38;5;28;01mreturn\u001b[39;00m \u001b[43mNumberObject\u001b[49m\u001b[43m.\u001b[49m\u001b[43mread_from_stream\u001b[49m\u001b[43m(\u001b[49m\u001b[43mstream\u001b[49m\u001b[43m)\u001b[49m\n\u001b[32m   1487\u001b[39m pos = stream.tell()\n\u001b[32m   1488\u001b[39m stream.seek(-\u001b[32m20\u001b[39m, \u001b[32m1\u001b[39m)\n",
      "\u001b[36mFile \u001b[39m\u001b[32mc:\\Users\\KRISHNA\\anaconda3\\envs\\venv\\Lib\\site-packages\\pypdf\\generic\\_base.py:581\u001b[39m, in \u001b[36mNumberObject.read_from_stream\u001b[39m\u001b[34m(stream)\u001b[39m\n\u001b[32m    579\u001b[39m \u001b[38;5;129m@staticmethod\u001b[39m\n\u001b[32m    580\u001b[39m \u001b[38;5;28;01mdef\u001b[39;00m\u001b[38;5;250m \u001b[39m\u001b[34mread_from_stream\u001b[39m(stream: StreamType) -> Union[\u001b[33m\"\u001b[39m\u001b[33mNumberObject\u001b[39m\u001b[33m\"\u001b[39m, \u001b[33m\"\u001b[39m\u001b[33mFloatObject\u001b[39m\u001b[33m\"\u001b[39m]:\n\u001b[32m--> \u001b[39m\u001b[32m581\u001b[39m     num = \u001b[43mread_until_regex\u001b[49m\u001b[43m(\u001b[49m\u001b[43mstream\u001b[49m\u001b[43m,\u001b[49m\u001b[43m \u001b[49m\u001b[43mNumberObject\u001b[49m\u001b[43m.\u001b[49m\u001b[43mNumberPattern\u001b[49m\u001b[43m)\u001b[49m\n\u001b[32m    582\u001b[39m     \u001b[38;5;28;01mif\u001b[39;00m \u001b[33mb\u001b[39m\u001b[33m\"\u001b[39m\u001b[33m.\u001b[39m\u001b[33m\"\u001b[39m \u001b[38;5;129;01min\u001b[39;00m num:\n\u001b[32m    583\u001b[39m         \u001b[38;5;28;01mreturn\u001b[39;00m FloatObject(num)\n",
      "\u001b[36mFile \u001b[39m\u001b[32mc:\\Users\\KRISHNA\\anaconda3\\envs\\venv\\Lib\\site-packages\\pypdf\\_utils.py:242\u001b[39m, in \u001b[36mread_until_regex\u001b[39m\u001b[34m(stream, regex)\u001b[39m\n\u001b[32m    240\u001b[39m m = regex.search(name + tok)\n\u001b[32m    241\u001b[39m \u001b[38;5;28;01mif\u001b[39;00m m \u001b[38;5;129;01mis\u001b[39;00m \u001b[38;5;129;01mnot\u001b[39;00m \u001b[38;5;28;01mNone\u001b[39;00m:\n\u001b[32m--> \u001b[39m\u001b[32m242\u001b[39m     stream.seek(\u001b[43mm\u001b[49m\u001b[43m.\u001b[49m\u001b[43mstart\u001b[49m\u001b[43m(\u001b[49m\u001b[43m)\u001b[49m - (\u001b[38;5;28mlen\u001b[39m(name) + \u001b[38;5;28mlen\u001b[39m(tok)), \u001b[32m1\u001b[39m)\n\u001b[32m    243\u001b[39m     name = (name + tok)[: m.start()]\n\u001b[32m    244\u001b[39m     \u001b[38;5;28;01mbreak\u001b[39;00m\n",
      "\u001b[31mKeyboardInterrupt\u001b[39m: "
     ]
    }
   ],
   "source": [
    "extracted_data = load_data(\"Data/\")"
   ]
  },
  {
   "cell_type": "code",
   "execution_count": null,
   "id": "bd560894",
   "metadata": {},
   "outputs": [
    {
     "ename": "NameError",
     "evalue": "name 'extracted_data' is not defined",
     "output_type": "error",
     "traceback": [
      "\u001b[31m---------------------------------------------------------------------------\u001b[39m",
      "\u001b[31mNameError\u001b[39m                                 Traceback (most recent call last)",
      "\u001b[36mCell\u001b[39m\u001b[36m \u001b[39m\u001b[32mIn[3]\u001b[39m\u001b[32m, line 1\u001b[39m\n\u001b[32m----> \u001b[39m\u001b[32m1\u001b[39m \u001b[43mextracted_data\u001b[49m\n",
      "\u001b[31mNameError\u001b[39m: name 'extracted_data' is not defined"
     ]
    }
   ],
   "source": [
    "extracted_data"
   ]
  },
  {
   "cell_type": "code",
   "execution_count": 17,
   "id": "fc329ce6",
   "metadata": {},
   "outputs": [],
   "source": [
    "def make_chunks(extracted_data):\n",
    "    \"\"\"Split documents into chunks.\"\"\"\n",
    "    text_splitter = RecursiveCharacterTextSplitter(\n",
    "        chunk_size=500,\n",
    "        chunk_overlap=20\n",
    "    )\n",
    "    chunks = text_splitter.split_documents(extracted_data)\n",
    "    return chunks"
   ]
  },
  {
   "cell_type": "code",
   "execution_count": 18,
   "id": "b93738eb",
   "metadata": {},
   "outputs": [
    {
     "ename": "NameError",
     "evalue": "name 'extracted_data' is not defined",
     "output_type": "error",
     "traceback": [
      "\u001b[31m---------------------------------------------------------------------------\u001b[39m",
      "\u001b[31mNameError\u001b[39m                                 Traceback (most recent call last)",
      "\u001b[36mCell\u001b[39m\u001b[36m \u001b[39m\u001b[32mIn[18]\u001b[39m\u001b[32m, line 1\u001b[39m\n\u001b[32m----> \u001b[39m\u001b[32m1\u001b[39m text_chunks = make_chunks(\u001b[43mextracted_data\u001b[49m)\n\u001b[32m      2\u001b[39m \u001b[38;5;28mlen\u001b[39m(text_chunks)\n",
      "\u001b[31mNameError\u001b[39m: name 'extracted_data' is not defined"
     ]
    }
   ],
   "source": [
    "text_chunks = make_chunks(extracted_data)\n",
    "len(text_chunks)"
   ]
  },
  {
   "cell_type": "code",
   "execution_count": null,
   "id": "dda69df1",
   "metadata": {},
   "outputs": [],
   "source": [
    "# text_chunks"
   ]
  },
  {
   "cell_type": "code",
   "execution_count": 4,
   "id": "7c258456",
   "metadata": {},
   "outputs": [
    {
     "name": "stderr",
     "output_type": "stream",
     "text": [
      "C:\\Users\\KRISHNA\\AppData\\Local\\Temp\\ipykernel_16440\\1185666148.py:3: LangChainDeprecationWarning: The class `HuggingFaceEmbeddings` was deprecated in LangChain 0.2.2 and will be removed in 1.0. An updated version of the class exists in the :class:`~langchain-huggingface package and should be used instead. To use it run `pip install -U :class:`~langchain-huggingface` and import as `from :class:`~langchain_huggingface import HuggingFaceEmbeddings``.\n",
      "  embedding_model = HuggingFaceEmbeddings(model_name=\"sentence-transformers/all-MiniLM-L6-v2\")\n",
      "c:\\Users\\KRISHNA\\anaconda3\\envs\\venv\\Lib\\site-packages\\tqdm\\auto.py:21: TqdmWarning: IProgress not found. Please update jupyter and ipywidgets. See https://ipywidgets.readthedocs.io/en/stable/user_install.html\n",
      "  from .autonotebook import tqdm as notebook_tqdm\n"
     ]
    }
   ],
   "source": [
    "from langchain.embeddings import HuggingFaceEmbeddings\n",
    "\n",
    "embedding_model = HuggingFaceEmbeddings(model_name=\"sentence-transformers/all-MiniLM-L6-v2\")"
   ]
  },
  {
   "cell_type": "code",
   "execution_count": null,
   "id": "67ed5626",
   "metadata": {},
   "outputs": [
    {
     "name": "stdout",
     "output_type": "stream",
     "text": [
      "384\n"
     ]
    }
   ],
   "source": [
    "query_results = embedding_model.embed_query(\"What is the treatment for diabetes?\")\n",
    "print(len(query_results))"
   ]
  },
  {
   "cell_type": "code",
   "execution_count": 22,
   "id": "e1a604a1",
   "metadata": {},
   "outputs": [],
   "source": [
    "from dotenv import load_dotenv\n",
    "import os\n",
    "load_dotenv()\n",
    "PINECONE_API_KEY = os.environ.get(\"PINECONE_API_KEY\")\n",
    "GEMINI_API_KEY = os.environ.get(\"GEMINI_API_KEY\")"
   ]
  },
  {
   "cell_type": "code",
   "execution_count": 8,
   "id": "771b1e65",
   "metadata": {},
   "outputs": [
    {
     "name": "stderr",
     "output_type": "stream",
     "text": [
      "c:\\Users\\KRISHNA\\anaconda3\\envs\\venv\\Lib\\site-packages\\google\\protobuf\\runtime_version.py:98: UserWarning: Protobuf gencode version 5.29.0 is exactly one major version older than the runtime version 6.31.1 at db_data_2025-04.proto. Please update the gencode to avoid compatibility violations in the next runtime release.\n",
      "  warnings.warn(\n"
     ]
    }
   ],
   "source": [
    "#create database index\n",
    "\n",
    "from pinecone.grpc import PineconeGRPC as Pinecone\n",
    "from pinecone import ServerlessSpec\n",
    "\n",
    "pc = Pinecone(api_key=PINECONE_API_KEY)\n",
    "\n",
    "\n",
    "index_name = \"healtcare-report-bot\"\n",
    "\n",
    "if not pc.has_index(index_name):\n",
    "    pc.create_index(\n",
    "        name=index_name,\n",
    "        dimension=384,\n",
    "        metric=\"cosine\",\n",
    "        spec=ServerlessSpec(\n",
    "            cloud=\"aws\",\n",
    "            region=\"us-east-1\"\n",
    "        ),\n",
    "        deletion_protection=\"disabled\",\n",
    "        tags={\n",
    "            \"environment\": \"development\"\n",
    "        }\n",
    "    )"
   ]
  },
  {
   "cell_type": "code",
   "execution_count": 23,
   "id": "f0df9772",
   "metadata": {},
   "outputs": [],
   "source": [
    "import os\n",
    "os.environ[\"PINECONE_API_KEY\"] = PINECONE_API_KEY\n",
    "os.environ[\"GEMINI_API_KEY\"] = GEMINI_API_KEY"
   ]
  },
  {
   "cell_type": "code",
   "execution_count": 26,
   "id": "5358008d",
   "metadata": {},
   "outputs": [
    {
     "ename": "NameError",
     "evalue": "name 'text_chunks' is not defined",
     "output_type": "error",
     "traceback": [
      "\u001b[31m---------------------------------------------------------------------------\u001b[39m",
      "\u001b[31mNameError\u001b[39m                                 Traceback (most recent call last)",
      "\u001b[36mCell\u001b[39m\u001b[36m \u001b[39m\u001b[32mIn[26]\u001b[39m\u001b[32m, line 8\u001b[39m\n\u001b[32m      1\u001b[39m \u001b[38;5;66;03m#embedding all chunks and upserting data into pinecone index\u001b[39;00m\n\u001b[32m      3\u001b[39m \u001b[38;5;28;01mfrom\u001b[39;00m\u001b[38;5;250m \u001b[39m\u001b[34;01mlangchain_pinecone\u001b[39;00m\u001b[38;5;250m \u001b[39m\u001b[38;5;28;01mimport\u001b[39;00m PineconeVectorStore\n\u001b[32m      5\u001b[39m vector_store = PineconeVectorStore.from_documents(\n\u001b[32m      6\u001b[39m     index_name=index_name,\n\u001b[32m      7\u001b[39m     embedding=embedding_model,\n\u001b[32m----> \u001b[39m\u001b[32m8\u001b[39m     documents=\u001b[43mtext_chunks\u001b[49m,\n\u001b[32m      9\u001b[39m )\n",
      "\u001b[31mNameError\u001b[39m: name 'text_chunks' is not defined"
     ]
    }
   ],
   "source": [
    "#embedding all chunks and upserting data into pinecone index\n",
    "\n",
    "from langchain_pinecone import PineconeVectorStore\n",
    "\n",
    "vector_store = PineconeVectorStore.from_documents(\n",
    "    index_name=index_name,\n",
    "    embedding=embedding_model,\n",
    "    documents=text_chunks,\n",
    ")"
   ]
  },
  {
   "cell_type": "code",
   "execution_count": 9,
   "id": "acbbf780",
   "metadata": {},
   "outputs": [],
   "source": [
    "from langchain_pinecone import PineconeVectorStore\n",
    "\n",
    "vector_store = PineconeVectorStore.from_existing_index(\n",
    "    index_name=index_name,\n",
    "    embedding=embedding_model,\n",
    ")"
   ]
  },
  {
   "cell_type": "code",
   "execution_count": 20,
   "id": "96a2a555",
   "metadata": {},
   "outputs": [
    {
     "data": {
      "text/plain": [
       "<langchain_pinecone.vectorstores.PineconeVectorStore at 0x1137d396000>"
      ]
     },
     "execution_count": 20,
     "metadata": {},
     "output_type": "execute_result"
    }
   ],
   "source": [
    "vector_store"
   ]
  },
  {
   "cell_type": "code",
   "execution_count": 11,
   "id": "7b20195e",
   "metadata": {},
   "outputs": [],
   "source": [
    "retriever = vector_store.as_retriever(\n",
    "    search_type=\"similarity\",\n",
    "    search_kwargs={\"k\":3}\n",
    ")"
   ]
  },
  {
   "cell_type": "code",
   "execution_count": 15,
   "id": "01b65223",
   "metadata": {},
   "outputs": [],
   "source": [
    "retrieved_docs = retriever.invoke(\"What is the treatment for diabetes?\")"
   ]
  },
  {
   "cell_type": "code",
   "execution_count": 23,
   "id": "f4e581c4",
   "metadata": {},
   "outputs": [
    {
     "name": "stdout",
     "output_type": "stream",
     "text": [
      "[Document(id='1e4356e5-25f1-45eb-9568-9f1fece3325d', metadata={'author': '', 'creationdate': '2017-05-01T10:37:35-07:00', 'creator': '', 'keywords': '', 'moddate': '2017-05-01T10:37:35-07:00', 'page': 434.0, 'page_label': '435', 'producer': 'GPL Ghostscript 9.10', 'source': 'Data\\\\The_GALE_ENCYCLOPEDIA_of_MEDICINE_SECOND.pdf', 'subject': '', 'title': '', 'total_pages': 759.0}, page_content='GALE ENCYCLOPEDIA OF MEDICINE 2 1047\\nDiabetes mellitus'), Document(id='be2480ff-3343-4607-b7ed-4add9368670a', metadata={'author': '', 'creationdate': '2017-05-01T10:37:35-07:00', 'creator': '', 'keywords': '', 'moddate': '2017-05-01T10:37:35-07:00', 'page': 438.0, 'page_label': '439', 'producer': 'GPL Ghostscript 9.10', 'source': 'Data\\\\The_GALE_ENCYCLOPEDIA_of_MEDICINE_SECOND.pdf', 'subject': '', 'title': '', 'total_pages': 759.0}, page_content='available to treat diabetes include metformin, acarbose,\\nand troglitizone. The choice of the right medication\\ndepends in part on the individual patient profile. All drugs\\nhave side effects that may make them inappropriate for\\nparticular patients. Some for example, may stimulate\\nweight gain or cause stomach irritation, so they may not be\\nthe best treatment for someone who is already overweight\\nor who also has stomach ulcers. While these medications'), Document(id='1c7dcb49-0970-4219-b845-4db65a82c509', metadata={'author': '', 'creationdate': '2017-05-01T10:37:35-07:00', 'creator': '', 'keywords': '', 'moddate': '2017-05-01T10:37:35-07:00', 'page': 439.0, 'page_label': '440', 'producer': 'GPL Ghostscript 9.10', 'source': 'Data\\\\The_GALE_ENCYCLOPEDIA_of_MEDICINE_SECOND.pdf', 'subject': '', 'title': '', 'total_pages': 759.0}, page_content='dies may also be helpful in managing diabetes. Although\\nthere is no herbal substitute for insulin, some herbs may\\nhelp adjust blood sugar levels or manage other diabetic\\nsymptoms. Some options include:\\n• fenugreek ( Trigonella foenum-graecum ) has been\\nshown in some studies to reduce blood insulin and glu-\\ncose levels while also lowering cholesterol\\n• bilberry ( Vaccinium myrtillus ) may lower blood glu-\\ncose levels, as well as helping to maintain healthy\\nblood vessels'), Document(id='3ba6d6d7-a273-4d6a-9b31-52706f270a76', metadata={'author': '', 'creationdate': '2017-05-01T10:37:35-07:00', 'creator': '', 'keywords': '', 'moddate': '2017-05-01T10:37:35-07:00', 'page': 438.0, 'page_label': '439', 'producer': 'GPL Ghostscript 9.10', 'source': 'Data\\\\The_GALE_ENCYCLOPEDIA_of_MEDICINE_SECOND.pdf', 'subject': '', 'title': '', 'total_pages': 759.0}, page_content='device. Some patients may test their blood glucose levels\\nseveral times during a day and use this information to\\nadjust their doses of insulin.\\nTreatment\\nThere is currently no cure for diabetes; the condi-\\ntion, however, can be managed so that patients can live a\\nrelatively normal life. Treatment of diabetes focuses on\\ntwo goals: keeping blood glucose within normal range\\nand preventing the development of long-term complica-\\ntions. Careful monitoring of diet, exercise, and blood'), Document(id='e66bb284-8796-4c23-86c6-0a0a60c91b56', metadata={'author': '', 'creationdate': '2017-05-01T10:37:35-07:00', 'creator': '', 'keywords': '', 'moddate': '2017-05-01T10:37:35-07:00', 'page': 435.0, 'page_label': '436', 'producer': 'GPL Ghostscript 9.10', 'source': 'Data\\\\The_GALE_ENCYCLOPEDIA_of_MEDICINE_SECOND.pdf', 'subject': '', 'title': '', 'total_pages': 759.0}, page_content='glucose in the blood cannot be absorbed into the cells of\\nthe body. Symptoms include frequent urination, lethargy,\\nexcessive thirst, and hunger. The treatment includes\\nchanges in diet, oral medications, and in some cases,\\ndaily injections of insulin.\\nDescription\\nDiabetes mellitus is a chronic disease that causes\\nserious health complications including renal (kidney)\\nfailure, heart disease, stroke, and blindness. Approxi-\\nmately 14 million Americans (about 5% of the popula-')]\n"
     ]
    }
   ],
   "source": [
    "print(retrieved_docs)"
   ]
  },
  {
   "cell_type": "code",
   "execution_count": 27,
   "id": "6d0f3134",
   "metadata": {},
   "outputs": [],
   "source": [
    "from langchain_google_genai import ChatGoogleGenerativeAI\n",
    "llm = ChatGoogleGenerativeAI(\n",
    "    api_key=GEMINI_API_KEY,\n",
    "    model =\"gemini-2.5-flash\",\n",
    "    temperature=0.4,\n",
    "    max_tokens=500\n",
    ")"
   ]
  },
  {
   "cell_type": "code",
   "execution_count": null,
   "id": "6f7c5546",
   "metadata": {},
   "outputs": [],
   "source": [
    "from langchain.chains import create_retrieval_chain\n",
    "from langchain.chains.combine_documents import create_stuff_documents_chain\n",
    "from langchain_core.prompts import ChatPromptTemplate\n",
    "system_prompt = \"\"\"\n",
    "You are a helpful medical assistant that generates structured medical reports.\n",
    "\n",
    "Always follow these rules:\n",
    "- Use the provided context and user query to generate a report.\n",
    "- If the answer is not available in the context, say: \"I'm not sure based on the available information.\"\n",
    "- Avoid giving advice that only a doctor should provide.\n",
    "- Output the answer in this exact format:\n",
    "\n",
    "==== Personalized Healthcare Report ====\n",
    "\n",
    "**Extracted Symptoms**: <comma-separated list of symptoms extracted from the user query>\n",
    "\n",
    "**Disease**: <Likely disease name from context, or say \"I'm not sure based on the available information.\">\n",
    "\n",
    "**Description**: <Short 2–4 sentence summary of the disease from context>\n",
    "\n",
    "**Medicines**: <General medicines from context or \"Consult doctor\">\n",
    "\n",
    "**Prevention/Precautions**:\n",
    "- <Tip 1>\n",
    "- <Tip 2>\n",
    "- <Tip 3>\n",
    "(Include 3–5 relevant items if possible)\n",
    "\n",
    "**Matched Symptoms**: <number matched> / <total known symptoms for this disease>\n",
    "\n",
    "========================================\n",
    "\n",
    "Context:\n",
    "{context}\n",
    "\n",
    "\n",
    "\"\"\"\n",
    "\n",
    "\n",
    "\n",
    "prompt = ChatPromptTemplate.from_messages(\n",
    "    [\n",
    "        (\"system\", system_prompt),\n",
    "        (\"human\", \"{input}\"),\n",
    "    ]\n",
    ")"
   ]
  },
  {
   "cell_type": "code",
   "execution_count": 41,
   "id": "975c996e",
   "metadata": {},
   "outputs": [],
   "source": [
    "question_answer_chain = create_stuff_documents_chain(llm,prompt)\n",
    "rag_chain = create_retrieval_chain(retriever,question_answer_chain)"
   ]
  },
  {
   "cell_type": "code",
   "execution_count": 44,
   "id": "f47cf976",
   "metadata": {},
   "outputs": [],
   "source": [
    "response = rag_chain.invoke({\"input\": \"I have diabetes\"})"
   ]
  },
  {
   "cell_type": "code",
   "execution_count": 45,
   "id": "fbdc5d9f",
   "metadata": {},
   "outputs": [
    {
     "name": "stdout",
     "output_type": "stream",
     "text": [
      "==== Medical Report ====\n",
      "**Symptoms Mentioned**:\n",
      "- None mentioned by user\n",
      "\n",
      "**Likely Conditions / Diagnosis**:\n",
      "- Diabetes Mellitus (as stated by user)\n",
      "\n",
      "**Recommended Next Steps**:\n",
      "- Continue to consult with a healthcare professional for ongoing management of diabetes.\n",
      "- Discuss any new or worsening symptoms, or concerns about your condition with your doctor.\n",
      "- Treatment for diabetes may include changes in diet, oral medications, and in some cases, daily injections of insulin.\n",
      "- It is important to manage diabetes to prevent serious health complications such as renal (kidney) failure, heart disease, stroke, and blindness.\n",
      "========================\n"
     ]
    }
   ],
   "source": [
    "print(response['answer'])"
   ]
  },
  {
   "cell_type": "code",
   "execution_count": null,
   "id": "f6b53b02",
   "metadata": {},
   "outputs": [],
   "source": []
  },
  {
   "cell_type": "code",
   "execution_count": null,
   "id": "600a7c99",
   "metadata": {},
   "outputs": [],
   "source": []
  }
 ],
 "metadata": {
  "kernelspec": {
   "display_name": "venv",
   "language": "python",
   "name": "python3"
  },
  "language_info": {
   "codemirror_mode": {
    "name": "ipython",
    "version": 3
   },
   "file_extension": ".py",
   "mimetype": "text/x-python",
   "name": "python",
   "nbconvert_exporter": "python",
   "pygments_lexer": "ipython3",
   "version": "3.12.11"
  }
 },
 "nbformat": 4,
 "nbformat_minor": 5
}
